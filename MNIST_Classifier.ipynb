{
  "nbformat": 4,
  "nbformat_minor": 0,
  "metadata": {
    "colab": {
      "name": "MNIST_Classifier.ipynb",
      "version": "0.3.2",
      "provenance": [],
      "collapsed_sections": []
    },
    "kernelspec": {
      "name": "python3",
      "display_name": "Python 3"
    },
    "accelerator": "GPU"
  },
  "cells": [
    {
      "cell_type": "markdown",
      "metadata": {
        "id": "RGrEGWq0h2Ci",
        "colab_type": "text"
      },
      "source": [
        "# **Handwritten Digit Recognizer (MNIST Classifier)**\n",
        "* Loading the MNIST dataset\n",
        "* Defining  the Data loaders"
      ]
    },
    {
      "cell_type": "code",
      "metadata": {
        "id": "rX6UACcozPEc",
        "colab_type": "code",
        "colab": {}
      },
      "source": [
        "import torch\n",
        "from torchvision import datasets, transforms\n",
        "from torch import nn, optim\n",
        "import torch.nn.functional as F\n",
        "\n",
        "transform = transforms.Compose([transforms.ToTensor(), transforms.Normalize((0.5, ), (0.5,))])\n",
        "trainset = datasets.MNIST('~/.pytorch/MNIST_data/', download = True, train = True, transform = transform)\n",
        "testset = datasets.MNIST('~/.pytorch/MNIST_data/', download = True, train = False, transform = transform)\n",
        "\n",
        "trainLoader = torch.utils.data.DataLoader(trainset, batch_size = 20, shuffle = True, num_workers = 0)\n",
        "testLoader = torch.utils.data.DataLoader(testset, batch_size = 20, shuffle = True, num_workers = 0)"
      ],
      "execution_count": 0,
      "outputs": []
    },
    {
      "cell_type": "markdown",
      "metadata": {
        "id": "ApqSAaOWhtrl",
        "colab_type": "text"
      },
      "source": [
        "Visualizing the Image data"
      ]
    },
    {
      "cell_type": "code",
      "metadata": {
        "id": "omdFIZrrejID",
        "colab_type": "code",
        "colab": {}
      },
      "source": [
        "import numpy as np\n",
        "import matplotlib.pyplot as plt\n",
        "\n",
        "data = iter(trainLoader)\n",
        "images, labels = data.next()\n",
        "images = images.numpy()\n",
        "\n",
        "fig = plt.figure(figsize = (20, 5))\n",
        "for img in range(20):\n",
        "  ax = fig.add_subplot(2, 10, img + 1)\n",
        "  ax.imshow(np.squeeze(images[img]), cmap = 'gray')\n",
        "  ax.set_title(str(labels[img].item()))\n",
        "  ax.axis('off')"
      ],
      "execution_count": 0,
      "outputs": []
    },
    {
      "cell_type": "markdown",
      "metadata": {
        "id": "Pe5puEEiiZat",
        "colab_type": "text"
      },
      "source": [
        "## Visualizing PIXEL data"
      ]
    },
    {
      "cell_type": "code",
      "metadata": {
        "id": "_rusuD0TrLDl",
        "colab_type": "code",
        "colab": {}
      },
      "source": [
        "img = np.squeeze(images[3])\n",
        "fig = plt.figure(figsize = (15, 15))\n",
        "ax = fig.add_subplot(111)\n",
        "ax.imshow(img, cmap = 'gray')\n",
        "width, height = img.shape\n",
        "thresh = img.max()/2.5\n",
        "for i in range(width):\n",
        "  for j in range(height):\n",
        "    val = round(img[i][j], 2) if img[i][j] > 0 else 0\n",
        "    ax.annotate(str(val), xy = (j, i),\n",
        "               horizontalalignment = 'center',\n",
        "               verticalalignment = 'center',\n",
        "               color = 'white' if img[i][j] < thresh else 'black')"
      ],
      "execution_count": 0,
      "outputs": []
    },
    {
      "cell_type": "markdown",
      "metadata": {
        "id": "tP2MLyHQifzw",
        "colab_type": "text"
      },
      "source": [
        "##**`Defining the Network architecture`**"
      ]
    },
    {
      "cell_type": "code",
      "metadata": {
        "id": "9yOadE288wPh",
        "colab_type": "code",
        "colab": {}
      },
      "source": [
        "class Classifier(nn.Module):\n",
        "  def __init__(self):\n",
        "    super(Classifier, self).__init__()\n",
        "    self.fc1 = nn.Linear(784, 512)\n",
        "    self.fc2 = nn.Linear(512, 512)\n",
        "    self.fc3 = nn.Linear(512, 10)\n",
        "    self.dropout = nn.Dropout(p = 0.2)\n",
        "    \n",
        "  def forward(self, x):\n",
        "    x = x.view(images.shape[0], -1)\n",
        "    \n",
        "    x = self.dropout(F.relu(self.fc1(x)))\n",
        "    x = self.dropout(F.relu(self.fc2(x)))\n",
        "    x = F.log_softmax(self.fc3(x), dim = 1)\n",
        "    return x"
      ],
      "execution_count": 0,
      "outputs": []
    },
    {
      "cell_type": "markdown",
      "metadata": {
        "id": "YLW8FPPuio30",
        "colab_type": "text"
      },
      "source": [
        "## **`Feed forward and Backpropagation`**"
      ]
    },
    {
      "cell_type": "code",
      "metadata": {
        "id": "9U_K1fGQMXBt",
        "colab_type": "code",
        "colab": {}
      },
      "source": [
        "model = Classifier()\n",
        "criterion = nn.NLLLoss()\n",
        "optimizer = optim.Adam(model.parameters(), lr = 0.01)\n",
        "\n",
        "epochs = 50\n",
        "train_loss, test_loss = [], []\n",
        "for e in range(epochs):\n",
        "  model.train()\n",
        "  trainloss = 0\n",
        "  for images, labels in trainLoader:\n",
        "    optimizer.zero_grad()\n",
        "    logps = model(images)\n",
        "    loss = criterion(logps, labels)\n",
        "    loss.backward()\n",
        "    optimizer.step()\n",
        "    trainloss += loss.item()\n",
        "  else:\n",
        "    testloss, accuracy = 0, 0\n",
        "    with torch.no_grad():\n",
        "      model.eval()\n",
        "      for images, labels in testLoader:\n",
        "        ps = torch.exp(model(images))\n",
        "        top_ps, top_class = ps.topk(1, dim = 1)\n",
        "        equals = top_class == labels.view(top_class.shape)\n",
        "        accuracy += torch.mean(equals.type(torch.FloatTensor))\n",
        "        testloss += criterion(model(images), labels).item()\n",
        "      model.train()\n",
        "      train_loss.append(trainloss/len(trainLoader))\n",
        "      test_loss.append(testloss/len(testLoader))\n",
        "      print(\"Epoch {}/{}\".format(e + 1, epochs),\n",
        "           \"Train loss {:.3f}\".format(trainloss/len(trainLoader)),\n",
        "           \"Validation loss {:.3f}\".format(testloss/len(testLoader)),\n",
        "           \"Accuracy {:.3f}\".format((accuracy/len(testLoader)) * 100))"
      ],
      "execution_count": 0,
      "outputs": []
    },
    {
      "cell_type": "markdown",
      "metadata": {
        "id": "rjgsWMthi-kU",
        "colab_type": "text"
      },
      "source": [
        "# *Inference*"
      ]
    },
    {
      "cell_type": "code",
      "metadata": {
        "id": "na58Gbxb7wEO",
        "colab_type": "code",
        "colab": {}
      },
      "source": [
        "dataiter = iter(testLoader)\n",
        "images, labels = dataiter.next()\n",
        "ps = model(images)\n",
        "top_ps, top_class = ps.topk(1, dim = 1)\n",
        "images = images.numpy()\n",
        "fig = plt.figure(figsize = (25, 4))\n",
        "for img in range(20):\n",
        "  ax = fig.add_subplot(2, 10, img + 1)\n",
        "  ax.imshow(np.squeeze(images[img]), cmap = 'gray')\n",
        "  ax.axis('off')\n",
        "  ax.set_title(\"{0} ({1})\".format(str(top_class[img].item()), str(labels[img].item())),\n",
        "              color = \"green\" if top_class[img] == labels[img] else \"red\", fontsize = 18)"
      ],
      "execution_count": 0,
      "outputs": []
    }
  ]
}
